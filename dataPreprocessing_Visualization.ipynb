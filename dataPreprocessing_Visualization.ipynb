{
  "cells": [
    {
      "cell_type": "markdown",
      "metadata": {
        "colab_type": "text",
        "id": "view-in-github"
      },
      "source": [
        "<a href=\"https://colab.research.google.com/github/Sleeveso/CSTD-Repo/blob/main/dataPreprocessing.ipynb\" target=\"_parent\"><img src=\"https://colab.research.google.com/assets/colab-badge.svg\" alt=\"Open In Colab\"/></a>"
      ]
    },
    {
      "cell_type": "markdown",
      "metadata": {
        "id": "GX_YGbKd1-cv"
      },
      "source": []
    },
    {
      "cell_type": "code",
      "execution_count": 1,
      "metadata": {
        "id": "0uof-OQo7y04"
      },
      "outputs": [
        {
          "name": "stderr",
          "output_type": "stream",
          "text": [
            "Matplotlib is building the font cache; this may take a moment.\n"
          ]
        }
      ],
      "source": [
        "#importing modules/libries\n",
        "import numpy as np\n",
        "import matplotlib.pyplot as plt\n",
        "import pandas as pd"
      ]
    },
    {
      "cell_type": "code",
      "execution_count": 2,
      "metadata": {
        "collapsed": true,
        "id": "IZjaDY0TF38r"
      },
      "outputs": [
        {
          "ename": "FileNotFoundError",
          "evalue": "[Errno 2] No such file or directory: 'StudentsPerformance.csv'",
          "output_type": "error",
          "traceback": [
            "\u001b[1;31m---------------------------------------------------------------------------\u001b[0m",
            "\u001b[1;31mFileNotFoundError\u001b[0m                         Traceback (most recent call last)",
            "Cell \u001b[1;32mIn[2], line 2\u001b[0m\n\u001b[0;32m      1\u001b[0m \u001b[38;5;66;03m#importing datasets\u001b[39;00m\n\u001b[1;32m----> 2\u001b[0m df \u001b[38;5;241m=\u001b[39m pd\u001b[38;5;241m.\u001b[39mread_csv(\u001b[38;5;124m'\u001b[39m\u001b[38;5;124mStudentsPerformance.csv\u001b[39m\u001b[38;5;124m'\u001b[39m)\n\u001b[0;32m      3\u001b[0m cat_cols \u001b[38;5;241m=\u001b[39m df\u001b[38;5;241m.\u001b[39mcolumns[:\u001b[38;5;241m5\u001b[39m]\n\u001b[0;32m      4\u001b[0m df[cat_cols] \u001b[38;5;241m=\u001b[39m df[cat_cols]\u001b[38;5;241m.\u001b[39mapply(\u001b[38;5;28;01mlambda\u001b[39;00m x: x\u001b[38;5;241m.\u001b[39mstr\u001b[38;5;241m.\u001b[39mstrip()\u001b[38;5;241m.\u001b[39mstr\u001b[38;5;241m.\u001b[39mlower())\n",
            "File \u001b[1;32mc:\\ProgramData\\anaconda3\\Lib\\site-packages\\pandas\\util\\_decorators.py:211\u001b[0m, in \u001b[0;36mdeprecate_kwarg.<locals>._deprecate_kwarg.<locals>.wrapper\u001b[1;34m(*args, **kwargs)\u001b[0m\n\u001b[0;32m    209\u001b[0m     \u001b[38;5;28;01melse\u001b[39;00m:\n\u001b[0;32m    210\u001b[0m         kwargs[new_arg_name] \u001b[38;5;241m=\u001b[39m new_arg_value\n\u001b[1;32m--> 211\u001b[0m \u001b[38;5;28;01mreturn\u001b[39;00m func(\u001b[38;5;241m*\u001b[39margs, \u001b[38;5;241m*\u001b[39m\u001b[38;5;241m*\u001b[39mkwargs)\n",
            "File \u001b[1;32mc:\\ProgramData\\anaconda3\\Lib\\site-packages\\pandas\\util\\_decorators.py:331\u001b[0m, in \u001b[0;36mdeprecate_nonkeyword_arguments.<locals>.decorate.<locals>.wrapper\u001b[1;34m(*args, **kwargs)\u001b[0m\n\u001b[0;32m    325\u001b[0m \u001b[38;5;28;01mif\u001b[39;00m \u001b[38;5;28mlen\u001b[39m(args) \u001b[38;5;241m>\u001b[39m num_allow_args:\n\u001b[0;32m    326\u001b[0m     warnings\u001b[38;5;241m.\u001b[39mwarn(\n\u001b[0;32m    327\u001b[0m         msg\u001b[38;5;241m.\u001b[39mformat(arguments\u001b[38;5;241m=\u001b[39m_format_argument_list(allow_args)),\n\u001b[0;32m    328\u001b[0m         \u001b[38;5;167;01mFutureWarning\u001b[39;00m,\n\u001b[0;32m    329\u001b[0m         stacklevel\u001b[38;5;241m=\u001b[39mfind_stack_level(),\n\u001b[0;32m    330\u001b[0m     )\n\u001b[1;32m--> 331\u001b[0m \u001b[38;5;28;01mreturn\u001b[39;00m func(\u001b[38;5;241m*\u001b[39margs, \u001b[38;5;241m*\u001b[39m\u001b[38;5;241m*\u001b[39mkwargs)\n",
            "File \u001b[1;32mc:\\ProgramData\\anaconda3\\Lib\\site-packages\\pandas\\io\\parsers\\readers.py:950\u001b[0m, in \u001b[0;36mread_csv\u001b[1;34m(filepath_or_buffer, sep, delimiter, header, names, index_col, usecols, squeeze, prefix, mangle_dupe_cols, dtype, engine, converters, true_values, false_values, skipinitialspace, skiprows, skipfooter, nrows, na_values, keep_default_na, na_filter, verbose, skip_blank_lines, parse_dates, infer_datetime_format, keep_date_col, date_parser, dayfirst, cache_dates, iterator, chunksize, compression, thousands, decimal, lineterminator, quotechar, quoting, doublequote, escapechar, comment, encoding, encoding_errors, dialect, error_bad_lines, warn_bad_lines, on_bad_lines, delim_whitespace, low_memory, memory_map, float_precision, storage_options)\u001b[0m\n\u001b[0;32m    935\u001b[0m kwds_defaults \u001b[38;5;241m=\u001b[39m _refine_defaults_read(\n\u001b[0;32m    936\u001b[0m     dialect,\n\u001b[0;32m    937\u001b[0m     delimiter,\n\u001b[1;32m   (...)\u001b[0m\n\u001b[0;32m    946\u001b[0m     defaults\u001b[38;5;241m=\u001b[39m{\u001b[38;5;124m\"\u001b[39m\u001b[38;5;124mdelimiter\u001b[39m\u001b[38;5;124m\"\u001b[39m: \u001b[38;5;124m\"\u001b[39m\u001b[38;5;124m,\u001b[39m\u001b[38;5;124m\"\u001b[39m},\n\u001b[0;32m    947\u001b[0m )\n\u001b[0;32m    948\u001b[0m kwds\u001b[38;5;241m.\u001b[39mupdate(kwds_defaults)\n\u001b[1;32m--> 950\u001b[0m \u001b[38;5;28;01mreturn\u001b[39;00m _read(filepath_or_buffer, kwds)\n",
            "File \u001b[1;32mc:\\ProgramData\\anaconda3\\Lib\\site-packages\\pandas\\io\\parsers\\readers.py:605\u001b[0m, in \u001b[0;36m_read\u001b[1;34m(filepath_or_buffer, kwds)\u001b[0m\n\u001b[0;32m    602\u001b[0m _validate_names(kwds\u001b[38;5;241m.\u001b[39mget(\u001b[38;5;124m\"\u001b[39m\u001b[38;5;124mnames\u001b[39m\u001b[38;5;124m\"\u001b[39m, \u001b[38;5;28;01mNone\u001b[39;00m))\n\u001b[0;32m    604\u001b[0m \u001b[38;5;66;03m# Create the parser.\u001b[39;00m\n\u001b[1;32m--> 605\u001b[0m parser \u001b[38;5;241m=\u001b[39m TextFileReader(filepath_or_buffer, \u001b[38;5;241m*\u001b[39m\u001b[38;5;241m*\u001b[39mkwds)\n\u001b[0;32m    607\u001b[0m \u001b[38;5;28;01mif\u001b[39;00m chunksize \u001b[38;5;129;01mor\u001b[39;00m iterator:\n\u001b[0;32m    608\u001b[0m     \u001b[38;5;28;01mreturn\u001b[39;00m parser\n",
            "File \u001b[1;32mc:\\ProgramData\\anaconda3\\Lib\\site-packages\\pandas\\io\\parsers\\readers.py:1442\u001b[0m, in \u001b[0;36mTextFileReader.__init__\u001b[1;34m(self, f, engine, **kwds)\u001b[0m\n\u001b[0;32m   1439\u001b[0m     \u001b[38;5;28mself\u001b[39m\u001b[38;5;241m.\u001b[39moptions[\u001b[38;5;124m\"\u001b[39m\u001b[38;5;124mhas_index_names\u001b[39m\u001b[38;5;124m\"\u001b[39m] \u001b[38;5;241m=\u001b[39m kwds[\u001b[38;5;124m\"\u001b[39m\u001b[38;5;124mhas_index_names\u001b[39m\u001b[38;5;124m\"\u001b[39m]\n\u001b[0;32m   1441\u001b[0m \u001b[38;5;28mself\u001b[39m\u001b[38;5;241m.\u001b[39mhandles: IOHandles \u001b[38;5;241m|\u001b[39m \u001b[38;5;28;01mNone\u001b[39;00m \u001b[38;5;241m=\u001b[39m \u001b[38;5;28;01mNone\u001b[39;00m\n\u001b[1;32m-> 1442\u001b[0m \u001b[38;5;28mself\u001b[39m\u001b[38;5;241m.\u001b[39m_engine \u001b[38;5;241m=\u001b[39m \u001b[38;5;28mself\u001b[39m\u001b[38;5;241m.\u001b[39m_make_engine(f, \u001b[38;5;28mself\u001b[39m\u001b[38;5;241m.\u001b[39mengine)\n",
            "File \u001b[1;32mc:\\ProgramData\\anaconda3\\Lib\\site-packages\\pandas\\io\\parsers\\readers.py:1735\u001b[0m, in \u001b[0;36mTextFileReader._make_engine\u001b[1;34m(self, f, engine)\u001b[0m\n\u001b[0;32m   1733\u001b[0m     \u001b[38;5;28;01mif\u001b[39;00m \u001b[38;5;124m\"\u001b[39m\u001b[38;5;124mb\u001b[39m\u001b[38;5;124m\"\u001b[39m \u001b[38;5;129;01mnot\u001b[39;00m \u001b[38;5;129;01min\u001b[39;00m mode:\n\u001b[0;32m   1734\u001b[0m         mode \u001b[38;5;241m+\u001b[39m\u001b[38;5;241m=\u001b[39m \u001b[38;5;124m\"\u001b[39m\u001b[38;5;124mb\u001b[39m\u001b[38;5;124m\"\u001b[39m\n\u001b[1;32m-> 1735\u001b[0m \u001b[38;5;28mself\u001b[39m\u001b[38;5;241m.\u001b[39mhandles \u001b[38;5;241m=\u001b[39m get_handle(\n\u001b[0;32m   1736\u001b[0m     f,\n\u001b[0;32m   1737\u001b[0m     mode,\n\u001b[0;32m   1738\u001b[0m     encoding\u001b[38;5;241m=\u001b[39m\u001b[38;5;28mself\u001b[39m\u001b[38;5;241m.\u001b[39moptions\u001b[38;5;241m.\u001b[39mget(\u001b[38;5;124m\"\u001b[39m\u001b[38;5;124mencoding\u001b[39m\u001b[38;5;124m\"\u001b[39m, \u001b[38;5;28;01mNone\u001b[39;00m),\n\u001b[0;32m   1739\u001b[0m     compression\u001b[38;5;241m=\u001b[39m\u001b[38;5;28mself\u001b[39m\u001b[38;5;241m.\u001b[39moptions\u001b[38;5;241m.\u001b[39mget(\u001b[38;5;124m\"\u001b[39m\u001b[38;5;124mcompression\u001b[39m\u001b[38;5;124m\"\u001b[39m, \u001b[38;5;28;01mNone\u001b[39;00m),\n\u001b[0;32m   1740\u001b[0m     memory_map\u001b[38;5;241m=\u001b[39m\u001b[38;5;28mself\u001b[39m\u001b[38;5;241m.\u001b[39moptions\u001b[38;5;241m.\u001b[39mget(\u001b[38;5;124m\"\u001b[39m\u001b[38;5;124mmemory_map\u001b[39m\u001b[38;5;124m\"\u001b[39m, \u001b[38;5;28;01mFalse\u001b[39;00m),\n\u001b[0;32m   1741\u001b[0m     is_text\u001b[38;5;241m=\u001b[39mis_text,\n\u001b[0;32m   1742\u001b[0m     errors\u001b[38;5;241m=\u001b[39m\u001b[38;5;28mself\u001b[39m\u001b[38;5;241m.\u001b[39moptions\u001b[38;5;241m.\u001b[39mget(\u001b[38;5;124m\"\u001b[39m\u001b[38;5;124mencoding_errors\u001b[39m\u001b[38;5;124m\"\u001b[39m, \u001b[38;5;124m\"\u001b[39m\u001b[38;5;124mstrict\u001b[39m\u001b[38;5;124m\"\u001b[39m),\n\u001b[0;32m   1743\u001b[0m     storage_options\u001b[38;5;241m=\u001b[39m\u001b[38;5;28mself\u001b[39m\u001b[38;5;241m.\u001b[39moptions\u001b[38;5;241m.\u001b[39mget(\u001b[38;5;124m\"\u001b[39m\u001b[38;5;124mstorage_options\u001b[39m\u001b[38;5;124m\"\u001b[39m, \u001b[38;5;28;01mNone\u001b[39;00m),\n\u001b[0;32m   1744\u001b[0m )\n\u001b[0;32m   1745\u001b[0m \u001b[38;5;28;01massert\u001b[39;00m \u001b[38;5;28mself\u001b[39m\u001b[38;5;241m.\u001b[39mhandles \u001b[38;5;129;01mis\u001b[39;00m \u001b[38;5;129;01mnot\u001b[39;00m \u001b[38;5;28;01mNone\u001b[39;00m\n\u001b[0;32m   1746\u001b[0m f \u001b[38;5;241m=\u001b[39m \u001b[38;5;28mself\u001b[39m\u001b[38;5;241m.\u001b[39mhandles\u001b[38;5;241m.\u001b[39mhandle\n",
            "File \u001b[1;32mc:\\ProgramData\\anaconda3\\Lib\\site-packages\\pandas\\io\\common.py:856\u001b[0m, in \u001b[0;36mget_handle\u001b[1;34m(path_or_buf, mode, encoding, compression, memory_map, is_text, errors, storage_options)\u001b[0m\n\u001b[0;32m    851\u001b[0m \u001b[38;5;28;01melif\u001b[39;00m \u001b[38;5;28misinstance\u001b[39m(handle, \u001b[38;5;28mstr\u001b[39m):\n\u001b[0;32m    852\u001b[0m     \u001b[38;5;66;03m# Check whether the filename is to be opened in binary mode.\u001b[39;00m\n\u001b[0;32m    853\u001b[0m     \u001b[38;5;66;03m# Binary mode does not support 'encoding' and 'newline'.\u001b[39;00m\n\u001b[0;32m    854\u001b[0m     \u001b[38;5;28;01mif\u001b[39;00m ioargs\u001b[38;5;241m.\u001b[39mencoding \u001b[38;5;129;01mand\u001b[39;00m \u001b[38;5;124m\"\u001b[39m\u001b[38;5;124mb\u001b[39m\u001b[38;5;124m\"\u001b[39m \u001b[38;5;129;01mnot\u001b[39;00m \u001b[38;5;129;01min\u001b[39;00m ioargs\u001b[38;5;241m.\u001b[39mmode:\n\u001b[0;32m    855\u001b[0m         \u001b[38;5;66;03m# Encoding\u001b[39;00m\n\u001b[1;32m--> 856\u001b[0m         handle \u001b[38;5;241m=\u001b[39m \u001b[38;5;28mopen\u001b[39m(\n\u001b[0;32m    857\u001b[0m             handle,\n\u001b[0;32m    858\u001b[0m             ioargs\u001b[38;5;241m.\u001b[39mmode,\n\u001b[0;32m    859\u001b[0m             encoding\u001b[38;5;241m=\u001b[39mioargs\u001b[38;5;241m.\u001b[39mencoding,\n\u001b[0;32m    860\u001b[0m             errors\u001b[38;5;241m=\u001b[39merrors,\n\u001b[0;32m    861\u001b[0m             newline\u001b[38;5;241m=\u001b[39m\u001b[38;5;124m\"\u001b[39m\u001b[38;5;124m\"\u001b[39m,\n\u001b[0;32m    862\u001b[0m         )\n\u001b[0;32m    863\u001b[0m     \u001b[38;5;28;01melse\u001b[39;00m:\n\u001b[0;32m    864\u001b[0m         \u001b[38;5;66;03m# Binary mode\u001b[39;00m\n\u001b[0;32m    865\u001b[0m         handle \u001b[38;5;241m=\u001b[39m \u001b[38;5;28mopen\u001b[39m(handle, ioargs\u001b[38;5;241m.\u001b[39mmode)\n",
            "\u001b[1;31mFileNotFoundError\u001b[0m: [Errno 2] No such file or directory: 'StudentsPerformance.csv'"
          ]
        }
      ],
      "source": [
        "#importing datasets\n",
        "df = pd.read_csv('StudentsPerformance.csv')\n",
        "cat_cols = df.columns[:5]\n",
        "df[cat_cols] = df[cat_cols].apply(lambda x: x.str.strip().str.lower())\n",
        "# x = df.iloc[:,  :-1].values\n",
        "x = df.drop(df.columns[5], axis=1)\n",
        "#x = df.drop(df.columns[4], axis=1).iloc[:, :].values\n",
        "y = df.iloc[:,  5].values\n",
        "# df.info()\n",
        "# print(df.isnull().sum())"
      ]
    },
    {
      "cell_type": "code",
      "execution_count": null,
      "metadata": {
        "colab": {
          "base_uri": "https://localhost:8080/"
        },
        "collapsed": true,
        "id": "KkgbvJPLNLX-",
        "outputId": "a22f98dd-6a9d-4e21-e763-38c0b83e1ac4"
      },
      "outputs": [
        {
          "ename": "",
          "evalue": "",
          "output_type": "error",
          "traceback": [
            "\u001b[1;31mFailed to start the Kernel. \n",
            "\u001b[1;31mUnable to start Kernel 'base (Python 3.11.3)' due to a timeout waiting for the ports to get used. \n",
            "\u001b[1;31mView Jupyter <a href='command:jupyter.viewOutput'>log</a> for further details."
          ]
        }
      ],
      "source": [
        "print(x)"
      ]
    },
    {
      "cell_type": "code",
      "execution_count": 3,
      "metadata": {
        "id": "gtrCQJxAUj1g"
      },
      "outputs": [],
      "source": [
        "from sklearn.impute import SimpleImputer"
      ]
    },
    {
      "cell_type": "code",
      "execution_count": 4,
      "metadata": {
        "id": "loBlnngoVJeZ"
      },
      "outputs": [],
      "source": [
        "#filling missing data\n",
        "imputer = SimpleImputer(missing_values= np.nan, strategy= 'mean')\n",
        "#use nan to detect not numbers and replace them with coloumn 'mean'(or \"median\", \"most_frequent\", \"constant\")\n",
        "# imputer.fit(x[:, 6:])\n",
        "# x[:, 6:] = imputer.transform(x[:, 6:])\n",
        "x.iloc[:, 6:] = imputer.fit_transform(x.iloc[:, 6:])\n"
      ]
    },
    {
      "cell_type": "code",
      "execution_count": null,
      "metadata": {
        "colab": {
          "base_uri": "https://localhost:8080/"
        },
        "collapsed": true,
        "id": "EzKA12LNWlTO",
        "outputId": "f6daa99d-1851-4e8f-ee6b-91dceab42dfa"
      },
      "outputs": [
        {
          "name": "stdout",
          "output_type": "stream",
          "text": [
            "[[ 1.  0.  0. ...  0. 72. 74.]\n",
            " [ 1.  0.  0. ...  1. 90. 88.]\n",
            " [ 1.  0.  0. ...  0. 95. 93.]\n",
            " ...\n",
            " [ 1.  0.  0. ...  1. 71. 65.]\n",
            " [ 1.  0.  0. ...  1. 78. 77.]\n",
            " [ 1.  0.  0. ...  0. 86. 86.]]\n"
          ]
        }
      ],
      "source": [
        "print(x)"
      ]
    },
    {
      "cell_type": "markdown",
      "metadata": {
        "id": "IiJV1GTgjU2P"
      },
      "source": [
        "Encoding categorical data"
      ]
    },
    {
      "cell_type": "code",
      "execution_count": 5,
      "metadata": {
        "collapsed": true,
        "id": "pTMbeBPZjYvU"
      },
      "outputs": [],
      "source": [
        "from sklearn.compose import ColumnTransformer\n",
        "from sklearn.preprocessing import OneHotEncoder, OrdinalEncoder\n",
        "from sklearn.preprocessing import LabelEncoder\n",
        "ct = ColumnTransformer(transformers=[('encoder', OneHotEncoder(handle_unknown=\"ignore\"), list(range(4))),\n",
        "                                     (\"binary\", OrdinalEncoder(categories=[[\"none\", \"completed\"]]), [4])],\n",
        "                       remainder='passthrough')\n",
        "x = np.array(ct.fit_transform(x))\n",
        "# le = LabelEncoder()\n",
        "# y = le.fit_transform(y)\n",
        "# x = np.array(ct.fit_transform(df.drop(df.columns[5], axis=1)))"
      ]
    },
    {
      "cell_type": "code",
      "execution_count": null,
      "metadata": {
        "colab": {
          "base_uri": "https://localhost:8080/"
        },
        "collapsed": true,
        "id": "y0-Hs1LlokAR",
        "outputId": "379090d9-46ba-45bf-d809-bcd5b3eaa7d1"
      },
      "outputs": [
        {
          "name": "stdout",
          "output_type": "stream",
          "text": [
            "[[ 1.  0.  0. ...  0. 72. 74.]\n",
            " [ 1.  0.  0. ...  1. 90. 88.]\n",
            " [ 1.  0.  0. ...  0. 95. 93.]\n",
            " ...\n",
            " [ 1.  0.  0. ...  1. 71. 65.]\n",
            " [ 1.  0.  0. ...  1. 78. 77.]\n",
            " [ 1.  0.  0. ...  0. 86. 86.]]\n"
          ]
        }
      ],
      "source": [
        "print(x)"
      ]
    },
    {
      "cell_type": "code",
      "execution_count": null,
      "metadata": {
        "colab": {
          "base_uri": "https://localhost:8080/"
        },
        "collapsed": true,
        "id": "rUv-xg_t_Y21",
        "outputId": "17b22484-ba12-4aa3-dcd3-a57f4723470d"
      },
      "outputs": [
        {
          "name": "stdout",
          "output_type": "stream",
          "text": [
            "[ 72  69  90  47  76  71  88  40  64  38  58  40  65  78  50  69  88  18\n",
            "  46  54  66  65  44  69  74  73  69  67  70  62  69  63  56  40  97  81\n",
            "  74  50  75  57  55  58  53  59  50  65  55  66  57  82  53  77  53  88\n",
            "  71  33  82  52  58   0  79  39  62  69  59  67  45  60  61  39  58  63\n",
            "  41  61  49  44  30  80  61  62  47  49  50  72  42  73  76  71  58  73\n",
            "  65  27  71  43  79  78  65  63  58  65  79  68  85  60  98  58  87  66\n",
            "  52  70  77  62  54  51  99  84  75  78  51  55  79  91  88  63  83  87\n",
            "  72  65  82  51  89  53  87  75  74  58  51  70  59  71  76  59  42  57\n",
            "  88  22  88  73  68 100  62  77  59  54  62  70  66  60  61  66  82  75\n",
            "  49  52  81  96  53  58  68  67  72  94  79  63  43  81  46  71  52  97\n",
            "  62  46  50  65  45  65  80  62  48  77  66  76  62  77  69  61  59  55\n",
            "  45  78  67  65  69  57  59  74  82  81  74  58  80  35  42  60  87  84\n",
            "  83  34  66  61  56  87  55  86  52  45  72  57  68  88  76  46  67  92\n",
            "  83  80  63  64  54  84  73  80  56  59  75  85  89  58  65  68  47  71\n",
            "  60  80  54  62  64  78  70  65  64  79  44  99  76  59  63  69  88  71\n",
            "  69  58  47  65  88  83  85  59  65  73  53  45  73  70  37  81  97  67\n",
            "  88  77  76  86  63  65  78  67  46  71  40  90  81  56  67  80  74  69\n",
            "  99  51  53  49  73  66  67  68  59  71  77  83  63  56  67  75  71  43\n",
            "  41  82  61  28  82  41  71  47  62  90  83  61  76  49  24  35  58  61\n",
            "  69  67  79  72  62  77  75  87  52  66  63  46  59  61  63  42  59  80\n",
            "  58  85  52  27  59  49  69  61  44  73  84  45  74  82  59  46  80  85\n",
            "  71  66  80  87  79  38  38  67  64  57  62  73  73  77  76  57  65  48\n",
            "  50  85  74  60  59  53  49  88  54  63  65  82  52  87  70  84  71  63\n",
            "  51  84  71  74  68  57  82  57  47  59  41  62  86  69  65  68  64  61\n",
            "  61  47  73  50  75  75  70  89  67  78  59  73  79  67  69  86  47  81\n",
            "  64 100  65  65  53  37  79  53 100  72  53  54  71  77  75  84  26  72\n",
            "  77  91  83  63  68  59  90  71  76  80  55  76  73  52  68  59  49  70\n",
            "  61  60  64  79  65  64  83  81  54  68  54  59  66  76  74  94  63  95\n",
            "  40  82  68  55  79  86  76  64  62  54  77  76  74  66  66  67  71  91\n",
            "  69  54  53  68  56  36  29  62  68  47  62  79  73  66  51  51  85  97\n",
            "  75  79  81  82  64  78  92  72  62  79  79  87  40  77  53  32  55  61\n",
            "  53  73  74  63  96  63  48  48  92  61  63  68  71  91  53  50  74  40\n",
            "  61  81  48  53  81  77  63  73  69  65  55  44  54  48  58  71  68  74\n",
            "  92  56  30  53  69  65  54  29  76  60  84  75  85  40  61  58  69  58\n",
            "  94  65  82  60  37  88  95  65  35  62  58 100  61 100  69  61  49  44\n",
            "  67  79  66  75  84  71  67  80  86  76  41  74  72  74  70  65  59  64\n",
            "  50  69  51  68  85  65  73  62  77  69  43  90  74  73  55  65  80  50\n",
            "  63  77  73  81  66  52  69  65  69  50  73  70  81  63  67  60  62  29\n",
            "  62  94  85  77  53  93  49  73  66  77  49  79  75  59  57  66  79  57\n",
            "  87  63  59  62  46  66  89  42  93  80  98  81  60  76  73  96  76  91\n",
            "  62  55  74  50  47  81  65  68  73  53  68  55  87  55  53  67  92  53\n",
            "  81  61  80  37  81  59  55  72  69  69  50  87  71  68  79  77  58  84\n",
            "  55  70  52  69  53  48  78  62  60  74  58  76  68  58  52  75  52  62\n",
            "  66  49  66  35  72  94  46  77  76  52  91  32  72  19  68  52  48  60\n",
            "  66  89  42  57  70  70  69  52  67  76  87  82  73  75  64  41  90  59\n",
            "  51  45  54  87  72  94  45  61  60  77  85  78  49  71  48  62  56  65\n",
            "  69  68  61  74  64  77  58  60  73  75  58  66  39  64  23  74  40  90\n",
            "  91  64  59  80  71  61  87  82  62  97  75  65  52  87  53  81  39  71\n",
            "  97  82  59  61  78  49  59  70  82  90  43  80  81  57  59  64  63  71\n",
            "  64  55  51  62  93  54  69  44  86  85  50  88  59  32  36  63  67  65\n",
            "  85  73  34  93  67  88  57  79  67  70  50  69  52  47  46  68 100  44\n",
            "  57  91  69  35  72  54  74  74  64  65  46  48  67  62  61  70  98  70\n",
            "  67  57  85  77  72  78  81  61  58  54  82  49  49  57  94  75  74  58\n",
            "  62  72  84  92  45  75  56  48 100  65  72  62  66  63  68  75  89  78\n",
            "  53  49  54  64  60  62  55  91   8  81  79  78  74  57  40  81  44  67\n",
            "  86  65  55  62  63  88  62  59  68  77]\n"
          ]
        }
      ],
      "source": [
        "print(y)"
      ]
    },
    {
      "cell_type": "markdown",
      "metadata": {
        "id": "twvRMLoz_oaE"
      },
      "source": [
        "Splitting datasets into training and testing"
      ]
    },
    {
      "cell_type": "code",
      "execution_count": 6,
      "metadata": {
        "id": "_FwWWCcU_roJ"
      },
      "outputs": [],
      "source": [
        "from sklearn.model_selection import train_test_split\n",
        "x_train, x_test, y_train, y_test = train_test_split(x, y, test_size= 0.2, random_state= 1)"
      ]
    },
    {
      "cell_type": "code",
      "execution_count": null,
      "metadata": {
        "colab": {
          "base_uri": "https://localhost:8080/"
        },
        "collapsed": true,
        "id": "BpgRE-toCAaQ",
        "outputId": "b53e655d-28bf-4aae-c3fd-9d68bf252457"
      },
      "outputs": [
        {
          "name": "stdout",
          "output_type": "stream",
          "text": [
            " x_train: [[ 0.  1.  0. ...  0. 81. 71.]\n",
            " [ 0.  1.  1. ...  0. 63. 62.]\n",
            " [ 0.  1.  0. ...  1. 85. 86.]\n",
            " ...\n",
            " [ 1.  0.  0. ...  0. 75. 72.]\n",
            " [ 0.  1.  0. ...  0. 75. 77.]\n",
            " [ 1.  0.  0. ...  0. 64. 59.]]\n",
            " x_test: [[ 0.  1.  0. ...  0. 59. 54.]\n",
            " [ 1.  0.  0. ...  0. 72. 68.]\n",
            " [ 1.  0.  0. ...  0. 77. 74.]\n",
            " ...\n",
            " [ 0.  1.  0. ...  0. 76. 65.]\n",
            " [ 1.  0.  0. ...  0. 64. 62.]\n",
            " [ 0.  1.  0. ...  1. 80. 76.]]\n",
            " y_train: [ 79  63  79  66  91  67  54  69  58  74  50  99  60  68  71  74  61  71\n",
            "  54  79  49  50  56  69  92  48  66  69  44  64  65  47  77  90  63  78\n",
            "  38  67  46  65  65  73  67  69  93  67  86  89  58  61  40  82  88  43\n",
            "  62  74  57  75  88  73  91  75  62  88  62  81  61  86  72  87  52  69\n",
            "  74  39  85  73  76  65  74  35  57  90  49  66  68  59  85  77  50   8\n",
            "  66  65  97  63  65  72  84  39  77  87  55  73  41  73  53  41  65  74\n",
            "  19  60  91  52  62  46  87  72  86  55  59  64  64  52  68  53  72  61\n",
            "  68  45  88  63  52  91  64  78  65  59  85  78  75  65  75  58  75  97\n",
            "  68  58  79  84  56  92  71  99  69  91  30  81  64  87  71  86  58  77\n",
            "  89  59  70  55  73  62  47  61  73  74  71  62  64  51  53  72  60  52\n",
            "  45  73  81  62  49  50  46  50  64  59  64  67  58  27  65  79  53  60\n",
            "  58  65  45  65  74  50  57  84  81  40  87  79  79  62  73  90  70  72\n",
            "  71  44  57  37  93  67  63  61  57  72  69  63  91  59  58  81  57  68\n",
            "  47  62  75  95  85  59  78  79  71  68  74  62  85  62  59  65  85  45\n",
            "  81  55  27  81  89  92  73  68  84  62  73  72  62  71  60  57  60  59\n",
            "  88  87  62  52  76  67  65  53  58  69  80  40  49  52  57  47  96  37\n",
            "  47  57  86  46  73  68  65  43  38  63  62  69  52  97  67  40  83  85\n",
            "  65  76  75  71  55  48  76  82  68  79  82  76  88  71  75  92  54  49\n",
            "  60  83  76  58  69  69  66  77  68  64  60  87  63  66  59  64  90  54\n",
            "  50  94  82  67  53  52  69  51  91 100  62  84  71  84  46  58  67  47\n",
            "  57  67  85  66  59  67  49  63  82  64  66  57  67  69  90  66  94  64\n",
            "  64  79  59  71  67  59  58  80  55  64  94  34  58  53  91  45  45  46\n",
            "  68  63  40  85  75  82  39  77  43  60  49  62  82  84  61  67  54  74\n",
            "  58  52  49  78  48  66  49  68  87  70  65  82  81  81  81  69  72  57\n",
            "  67  58  69  80  54  65  34  47  65  39  69  63  97  29  53  65  70  94\n",
            "  74  62  70  60  53  59  80  59  71  80  53  61  70  61  62  77  55  77\n",
            "  41  87  57  56  52  40  65  74  67  53  80  43  79  69  82  49  63  59\n",
            "  77  61  83  62  69  64  50  88  81  49  74  73  76  68  61 100  60  55\n",
            "  78  84  52  58  22  82  74  48  41  69  80  61  71  65  32  40  62  59\n",
            "  77  77  40  88  50  52  79  76  79  82  88  77 100  68  63  71  76  71\n",
            "  66  58  50  51  74  35  35  67  71  75  30  71  56  58  70  51  71  55\n",
            "  70  67  74  33  81  71  73  57  67  60  72  78  80  72  69  63  38  44\n",
            "  71 100  77  83  77  61  71  41  63  80  51  93  61  59  46  65  53  82\n",
            "  82  78  64  70  51  75  96  59  49  42  48  98  35  82  94  46  63  53\n",
            "  63  83  65  75  62  77  58  69  70  65  67  66  72  53  74  92  46  28\n",
            "  46  45  83  23  49  63  60  87  83  89  24  61  79  53  85  77  76  71\n",
            "  74  76  60  59  80  67  58  71  65  80  74  79  68  87  49  62  61  62\n",
            "  70  62  44  98  80  99  62 100  61  77  72  91  48  66  54  80  75  90\n",
            "  73  75  79  77  57  67  66  55  75  59  89  71  68  62  70  72  68  88\n",
            "  50  53  56  57  70  63  87  73  72  66  35  44  37  50  73  93  63  81\n",
            "  61  73  59  59  69  26  71  55  62  76  85  69  54  59  59  66  76  72\n",
            "  63  44  53  57  63  81  79  75  61  61  65  73  76  58  77  36  54  68\n",
            "  73  68  56  40  57  59  76  97  55  95  77  84  81  96  74  74  73  65\n",
            "  60  79  77  46  42  54  85  52  45  73  79  87  73  53  51  88  56  64\n",
            "  65  76  88  76  41  67  80  50]\n",
            " y_test: [ 55  60  65  44  56  48  44  51  63  82  69  42  68  72  78  75  98  88\n",
            "  54  54  87  68  69  63  47  55  52  64  48  59  50  76  55  54  54  88\n",
            "  61  55  70  82  82  73  65  68  79  81  51  58  65  88  81  97  76  81\n",
            "  68  37  62  70  61  94  51  54  48  53  49  54  75  45  29  18  42  84\n",
            "  80  72  53  67  76  58  47  86  62  81  55  70  75  55  77  74  50  36\n",
            "  73  77  66  84  51  52  73  74  70  62  61  78  69  66  65  48  69  85\n",
            "  63  58  76  32  94   0  78  81  80  81  79  42  62  66  47  69  75  29\n",
            "  52  69 100  66  87  65  90  90  59  53  66  65  59  58  61  78  85  66\n",
            "  62  86  62 100  32  40  59  89  64  77  82  61  62  68  42  68  66  74\n",
            "  87  53  54  59  75  53  70  61  69  49  49  73  48  65  80  74  78  63\n",
            "  83  53  52  69  47  59  67  86  44  78  66  56  92  69  54  64  43  79\n",
            "  61  81]\n"
          ]
        }
      ],
      "source": [
        "print(f\" x_train: {x_train}\")\n",
        "print(f\" x_test: {x_test}\")\n",
        "print(f\" y_train: {y_train}\")\n",
        "print(f\" y_test: {y_test}\")"
      ]
    },
    {
      "cell_type": "markdown",
      "metadata": {
        "id": "VxZ0M_xREi2h"
      },
      "source": [
        "Feature Scaling"
      ]
    },
    {
      "cell_type": "code",
      "execution_count": null,
      "metadata": {
        "colab": {
          "base_uri": "https://localhost:8080/"
        },
        "collapsed": true,
        "id": "qTEFliZbHrkd",
        "outputId": "a2ae599f-4478-4bbf-e2a3-6ac091337b33"
      },
      "outputs": [
        {
          "name": "stdout",
          "output_type": "stream",
          "text": [
            "[[81. 71.]\n",
            " [63. 62.]\n",
            " [85. 86.]\n",
            " ...\n",
            " [75. 72.]\n",
            " [75. 77.]\n",
            " [64. 59.]]\n",
            " x_test: [[ 59.  54.]\n",
            " [ 72.  68.]\n",
            " [ 77.  74.]\n",
            " [ 64.  58.]\n",
            " [ 52.  55.]\n",
            " [ 56.  51.]\n",
            " [ 50.  51.]\n",
            " [ 31.  36.]\n",
            " [ 71.  69.]\n",
            " [ 84.  82.]\n",
            " [ 66.  60.]\n",
            " [ 55.  54.]\n",
            " [ 76.  67.]\n",
            " [ 80.  75.]\n",
            " [ 72.  69.]\n",
            " [ 81.  84.]\n",
            " [ 86.  90.]\n",
            " [ 95.  92.]\n",
            " [ 60.  63.]\n",
            " [ 48.  52.]\n",
            " [ 84.  87.]\n",
            " [ 86.  84.]\n",
            " [ 77.  73.]\n",
            " [ 61.  54.]\n",
            " [ 59.  50.]\n",
            " [ 69.  65.]\n",
            " [ 76.  70.]\n",
            " [ 62.  68.]\n",
            " [ 66.  65.]\n",
            " [ 70.  73.]\n",
            " [ 42.  48.]\n",
            " [ 76.  74.]\n",
            " [ 55.  47.]\n",
            " [ 64.  68.]\n",
            " [ 59.  62.]\n",
            " [ 85.  76.]\n",
            " [ 74.  72.]\n",
            " [ 59.  59.]\n",
            " [ 65.  60.]\n",
            " [ 93.  93.]\n",
            " [ 84.  78.]\n",
            " [ 76.  78.]\n",
            " [ 72.  74.]\n",
            " [ 74.  74.]\n",
            " [ 86.  92.]\n",
            " [ 91.  89.]\n",
            " [ 66.  62.]\n",
            " [ 73.  68.]\n",
            " [ 58.  49.]\n",
            " [ 99.  95.]\n",
            " [ 81.  84.]\n",
            " [ 87.  82.]\n",
            " [ 74.  73.]\n",
            " [ 81.  79.]\n",
            " [ 75.  81.]\n",
            " [ 56.  47.]\n",
            " [ 76.  80.]\n",
            " [ 82.  76.]\n",
            " [ 47.  56.]\n",
            " [ 99. 100.]\n",
            " [ 52.  44.]\n",
            " [ 52.  51.]\n",
            " [ 45.  41.]\n",
            " [ 58.  57.]\n",
            " [ 52.  51.]\n",
            " [ 64.  67.]\n",
            " [ 58.  62.]\n",
            " [ 59.  64.]\n",
            " [ 41.  47.]\n",
            " [ 32.  28.]\n",
            " [ 61.  58.]\n",
            " [ 77.  71.]\n",
            " [ 83.  83.]\n",
            " [ 57.  58.]\n",
            " [ 54.  48.]\n",
            " [ 64.  61.]\n",
            " [ 83.  79.]\n",
            " [ 57.  53.]\n",
            " [ 37.  35.]\n",
            " [ 76.  74.]\n",
            " [ 73.  70.]\n",
            " [ 84.  82.]\n",
            " [ 58.  52.]\n",
            " [ 68.  72.]\n",
            " [ 77.  83.]\n",
            " [ 76.  76.]\n",
            " [ 90.  91.]\n",
            " [ 77.  76.]\n",
            " [ 66.  64.]\n",
            " [ 53.  43.]\n",
            " [ 79.  79.]\n",
            " [ 88.  87.]\n",
            " [ 74.  73.]\n",
            " [ 87.  81.]\n",
            " [ 72.  79.]\n",
            " [ 57.  50.]\n",
            " [ 66.  62.]\n",
            " [ 76.  73.]\n",
            " [ 75.  78.]\n",
            " [ 67.  61.]\n",
            " [ 68.  66.]\n",
            " [ 72.  70.]\n",
            " [ 84.  82.]\n",
            " [ 74.  78.]\n",
            " [ 59.  53.]\n",
            " [ 58.  52.]\n",
            " [ 72.  77.]\n",
            " [ 66.  71.]\n",
            " [ 66.  67.]\n",
            " [ 68.  61.]\n",
            " [ 71.  67.]\n",
            " [ 51.  44.]\n",
            " [ 73.  71.]\n",
            " [ 17.  10.]\n",
            " [ 74.  72.]\n",
            " [ 91.  87.]\n",
            " [ 85.  85.]\n",
            " [ 73.  72.]\n",
            " [ 92.  89.]\n",
            " [ 52.  51.]\n",
            " [ 68.  75.]\n",
            " [ 60.  57.]\n",
            " [ 57.  44.]\n",
            " [ 84.  85.]\n",
            " [ 66.  73.]\n",
            " [ 40.  44.]\n",
            " [ 55.  57.]\n",
            " [ 75.  71.]\n",
            " [ 97.  99.]\n",
            " [ 74.  81.]\n",
            " [ 90.  88.]\n",
            " [ 64.  62.]\n",
            " [ 87.  85.]\n",
            " [ 95.  93.]\n",
            " [ 71.  65.]\n",
            " [ 62.  53.]\n",
            " [ 72.  70.]\n",
            " [ 79.  81.]\n",
            " [ 62.  61.]\n",
            " [ 60.  57.]\n",
            " [ 57.  56.]\n",
            " [ 82.  79.]\n",
            " [ 81.  85.]\n",
            " [ 83.  83.]\n",
            " [ 55.  49.]\n",
            " [ 92.  87.]\n",
            " [ 49.  52.]\n",
            " [100. 100.]\n",
            " [ 39.  33.]\n",
            " [ 48.  50.]\n",
            " [ 71.  70.]\n",
            " [100. 100.]\n",
            " [ 64.  67.]\n",
            " [ 79.  80.]\n",
            " [ 85.  86.]\n",
            " [ 51.  52.]\n",
            " [ 72.  65.]\n",
            " [ 80.  76.]\n",
            " [ 39.  34.]\n",
            " [ 72.  64.]\n",
            " [ 62.  64.]\n",
            " [ 71.  78.]\n",
            " [ 95.  86.]\n",
            " [ 58.  44.]\n",
            " [ 72.  59.]\n",
            " [ 67.  61.]\n",
            " [ 74.  69.]\n",
            " [ 54.  48.]\n",
            " [ 84.  81.]\n",
            " [ 55.  52.]\n",
            " [ 77.  69.]\n",
            " [ 45.  45.]\n",
            " [ 52.  54.]\n",
            " [ 83.  76.]\n",
            " [ 56.  58.]\n",
            " [ 81.  77.]\n",
            " [ 76.  65.]\n",
            " [ 89.  84.]\n",
            " [ 90.  93.]\n",
            " [ 63.  60.]\n",
            " [ 86.  88.]\n",
            " [ 55.  48.]\n",
            " [ 59.  62.]\n",
            " [ 78.  76.]\n",
            " [ 54.  53.]\n",
            " [ 64.  75.]\n",
            " [ 84.  86.]\n",
            " [ 80.  75.]\n",
            " [ 63.  62.]\n",
            " [ 87.  91.]\n",
            " [ 66.  59.]\n",
            " [ 68.  70.]\n",
            " [ 87.  78.]\n",
            " [ 77.  77.]\n",
            " [ 63.  67.]\n",
            " [ 66.  59.]\n",
            " [ 62.  61.]\n",
            " [ 76.  65.]\n",
            " [ 64.  62.]\n",
            " [ 80.  76.]]\n"
          ]
        }
      ],
      "source": [
        "print(x_train[:, 16:])\n",
        "print(f\" x_test: {x_test[:, 16:]}\")"
      ]
    },
    {
      "cell_type": "code",
      "execution_count": 7,
      "metadata": {
        "id": "3DKKrXm_Epc4"
      },
      "outputs": [],
      "source": [
        "from sklearn.preprocessing import StandardScaler\n",
        "sc = StandardScaler()\n",
        "x_train[:, 16:] = sc.fit_transform(x_train[:, 16:])\n",
        "x_test[:, 16:] = sc.transform(x_test[:, 16:])\n",
        "#"
      ]
    },
    {
      "cell_type": "code",
      "execution_count": null,
      "metadata": {
        "colab": {
          "base_uri": "https://localhost:8080/"
        },
        "collapsed": true,
        "id": "A6IZCve-VV4g",
        "outputId": "12cd6a62-07ec-4b49-c7b1-06524c2a101d"
      },
      "outputs": [
        {
          "name": "stdout",
          "output_type": "stream",
          "text": [
            "[[ 0.          1.          0.         ...  0.          0.81569959\n",
            "   0.18854418]\n",
            " [ 0.          1.          1.         ...  0.         -0.41865036\n",
            "  -0.40529575]\n",
            " [ 0.          1.          0.         ...  1.          1.08999958\n",
            "   1.17827738]\n",
            " ...\n",
            " [ 1.          0.          0.         ...  0.          0.40424961\n",
            "   0.25452639]\n",
            " [ 0.          1.          0.         ...  0.          0.40424961\n",
            "   0.58443746]\n",
            " [ 1.          0.          0.         ...  0.         -0.35007536\n",
            "  -0.60324239]]\n",
            " x_test: [[ 0.          1.          0.         ...  0.         -0.69295035\n",
            "  -0.93315346]\n",
            " [ 1.          0.          0.         ...  0.          0.19852462\n",
            "  -0.00940247]\n",
            " [ 1.          0.          0.         ...  0.          0.54139961\n",
            "   0.38649082]\n",
            " ...\n",
            " [ 0.          1.          0.         ...  0.          0.47282461\n",
            "  -0.20734911]\n",
            " [ 1.          0.          0.         ...  0.         -0.35007536\n",
            "  -0.40529575]\n",
            " [ 0.          1.          0.         ...  1.          0.7471246\n",
            "   0.51845524]]\n"
          ]
        }
      ],
      "source": [
        "print(x_train)\n",
        "print(f\" x_test: {x_test}\")"
      ]
    },
    {
      "cell_type": "markdown",
      "metadata": {
        "id": "ACUhIXDZZyTj"
      },
      "source": [
        "Gender Distribution"
      ]
    },
    {
      "cell_type": "code",
      "execution_count": 8,
      "metadata": {
        "colab": {
          "base_uri": "https://localhost:8080/",
          "height": 401
        },
        "id": "cm1EJzVbYnqE",
        "outputId": "341e3b74-17e8-40ba-efc7-81499947786b"
      },
      "outputs": [
        {
          "data": {
            "image/png": "[encoded data removed]",
            "text/plain": [
              "<Figure size 1200x600 with 1 Axes>"
            ]
          },
          "metadata": {},
          "output_type": "display_data"
        }
      ],
      "source": [
        "import seaborn as sns\n",
        "plt.figure(figsize=(12, 6))\n",
        "gender_counts = df['gender'].value_counts()\n",
        "plt.bar(gender_counts.index, gender_counts.values, color= [\"blue\", \"red\"])\n",
        "plt.xlabel('Gender')\n",
        "plt.ylabel('Count')\n",
        "plt.title('Gender Distribution')\n",
        "\n",
        "plt.xticks(rotation=45)\n",
        "\n",
        "plt.show()\n"
      ]
    },
    {
      "cell_type": "markdown",
      "metadata": {
        "id": "ocfJMayhZ6wy"
      },
      "source": [
        "Race/Ethnicity Distribution"
      ]
    },
    {
      "cell_type": "code",
      "execution_count": 9,
      "metadata": {
        "colab": {
          "base_uri": "https://localhost:8080/",
          "height": 404
        },
        "id": "WxNAGwWBZ-cX",
        "outputId": "7037ab0e-f566-4ee1-fc2e-9bcfceb65eb9"
      },
      "outputs": [
        {
          "data": {
            "image/png": "[encoded data removed]",
            "text/plain": [
              "<Figure size 1200x600 with 1 Axes>"
            ]
          },
          "metadata": {},
          "output_type": "display_data"
        }
      ],
      "source": [
        "plt.figure(figsize=(12, 6))\n",
        "gender_counts = df['race/ethnicity'].value_counts()\n",
        "plt.bar(gender_counts.index, gender_counts.values, color= [\"blue\", \"red\"])\n",
        "plt.xlabel('race/ethnicity')\n",
        "plt.ylabel('Count')\n",
        "plt.title('race/ethnicity Distribution')\n",
        "\n",
        "plt.xticks(rotation=45)\n",
        "\n",
        "plt.show()"
      ]
    },
    {
      "cell_type": "markdown",
      "metadata": {
        "id": "0sU71jxbawq2"
      },
      "source": [
        "Parental Education vs Student Performance"
      ]
    },
    {
      "cell_type": "code",
      "execution_count": 21,
      "metadata": {
        "colab": {
          "base_uri": "https://localhost:8080/",
          "height": 559
        },
        "id": "Dtbb_ijUa3SS",
        "outputId": "91cb66a1-e90a-443c-d693-0f1be8655690"
      },
      "outputs": [
        {
          "data": {
            "image/png": "[encoded data removed]",
            "text/plain": [
              "<Figure size 640x480 with 1 Axes>"
            ]
          },
          "metadata": {},
          "output_type": "display_data"
        }
      ],
      "source": [
        "df[\"average_score\"] = df[[\"math score\", \"reading score\", \"writing score\"]].mean(axis=1)\n",
        "\n",
        "sns.boxplot(x=\"parental level of education\", y= \"average_score\", data=df)\n",
        "\n",
        "plt.title('Parental education vs student performance')\n",
        "plt.xlabel('parental level of education')\n",
        "plt.ylabel('student performance')\n",
        "\n",
        "plt.xticks(rotation=45)\n",
        "\n",
        "plt.show()"
      ]
    },
    {
      "cell_type": "markdown",
      "metadata": {
        "id": "VuemQzCide3h"
      },
      "source": [
        "Correlation between Math, Reading, Writing"
      ]
    },
    {
      "cell_type": "code",
      "execution_count": 22,
      "metadata": {
        "colab": {
          "base_uri": "https://localhost:8080/",
          "height": 435
        },
        "id": "ciELxEDldsbt",
        "outputId": "66151bf4-5c56-41ee-d664-b079f6a8a2a2"
      },
      "outputs": [
        {
          "data": {
            "image/png": "[encoded data removed]",
            "text/plain": [
              "<Figure size 640x480 with 2 Axes>"
            ]
          },
          "metadata": {},
          "output_type": "display_data"
        }
      ],
      "source": [
        "sns.heatmap(df[['math score','reading score','writing score']].corr(), annot=True, cmap=\"coolwarm\")\n",
        "plt.show()"
      ]
    }
  ],
  "metadata": {
    "colab": {
      "authorship_tag": "ABX9TyMpZEPCliIOvl1e6L4Wt2cq",
      "include_colab_link": true,
      "provenance": []
    },
    "kernelspec": {
      "display_name": "base",
      "language": "python",
      "name": "python3"
    },
    "language_info": {
      "codemirror_mode": {
        "name": "ipython",
        "version": 3
      },
      "file_extension": ".py",
      "mimetype": "text/x-python",
      "name": "python",
      "nbconvert_exporter": "python",
      "pygments_lexer": "ipython3",
      "version": "3.11.3"
    }
  },
  "nbformat": 4,
  "nbformat_minor": 0
}
