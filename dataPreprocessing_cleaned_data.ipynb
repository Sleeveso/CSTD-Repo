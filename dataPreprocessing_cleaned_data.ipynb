{
  "nbformat": 4,
  "nbformat_minor": 0,
  "metadata": {
    "colab": {
      "provenance": [],
      "authorship_tag": "ABX9TyNA3hKaJb7tRDJDnpZCi4G2",
      "include_colab_link": true
    },
    "kernelspec": {
      "name": "python3",
      "display_name": "Python 3"
    },
    "language_info": {
      "name": "python"
    }
  },
  "cells": [
    {
      "cell_type": "markdown",
      "metadata": {
        "id": "view-in-github",
        "colab_type": "text"
      },
      "source": [
        "<a href=\"https://colab.research.google.com/github/Sleeveso/CSTD-Repo/blob/main/dataPreprocessing_cleaned_data.ipynb\" target=\"_parent\"><img src=\"https://colab.research.google.com/assets/colab-badge.svg\" alt=\"Open In Colab\"/></a>"
      ]
    },
    {
      "cell_type": "markdown",
      "source": [],
      "metadata": {
        "id": "GX_YGbKd1-cv"
      }
    },
    {
      "cell_type": "code",
      "execution_count": 100,
      "metadata": {
        "id": "0uof-OQo7y04"
      },
      "outputs": [],
      "source": [
        "#importing modules/libries\n",
        "import numpy as np\n",
        "import matplotlib.pyplot as plt\n",
        "import pandas as pd"
      ]
    },
    {
      "cell_type": "code",
      "source": [
        "#importing datasets\n",
        "df = pd.read_csv('StudentsPerformance.csv')\n",
        "cat_cols = df.columns[:5]\n",
        "df[cat_cols] = df[cat_cols].apply(lambda x: x.str.strip().str.lower())\n",
        "# x = df.iloc[:,  :-1].values\n",
        "x = df.drop(df.columns[5], axis=1)\n",
        "#x = df.drop(df.columns[4], axis=1).iloc[:, :].values\n",
        "y = df.iloc[:,  5].values\n",
        "# df.info()\n",
        "# print(df.isnull().sum())"
      ],
      "metadata": {
        "collapsed": true,
        "id": "IZjaDY0TF38r"
      },
      "execution_count": 101,
      "outputs": []
    },
    {
      "cell_type": "code",
      "source": [
        "print(x)"
      ],
      "metadata": {
        "colab": {
          "base_uri": "https://localhost:8080/"
        },
        "collapsed": true,
        "id": "KkgbvJPLNLX-",
        "outputId": "8c19ab8e-75e6-47c8-ae8e-955f47c870ab"
      },
      "execution_count": 88,
      "outputs": [
        {
          "output_type": "stream",
          "name": "stdout",
          "text": [
            "[[ 1.  0.  0. ...  0. 72. 74.]\n",
            " [ 1.  0.  0. ...  1. 90. 88.]\n",
            " [ 1.  0.  0. ...  0. 95. 93.]\n",
            " ...\n",
            " [ 1.  0.  0. ...  1. 71. 65.]\n",
            " [ 1.  0.  0. ...  1. 78. 77.]\n",
            " [ 1.  0.  0. ...  0. 86. 86.]]\n"
          ]
        }
      ]
    },
    {
      "cell_type": "code",
      "source": [
        "from sklearn.impute import SimpleImputer"
      ],
      "metadata": {
        "id": "gtrCQJxAUj1g"
      },
      "execution_count": 53,
      "outputs": []
    },
    {
      "cell_type": "code",
      "source": [
        "#filling missing data\n",
        "imputer = SimpleImputer(missing_values= np.nan, strategy= 'mean')\n",
        "#use nan to detect not numbers and replace them with coloumn 'mean'(or \"median\", \"most_frequent\", \"constant\")\n",
        "# imputer.fit(x[:, 6:])\n",
        "# x[:, 6:] = imputer.transform(x[:, 6:])\n",
        "x.iloc[:, 6:] = imputer.fit_transform(x.iloc[:, 6:])\n"
      ],
      "metadata": {
        "id": "loBlnngoVJeZ"
      },
      "execution_count": 102,
      "outputs": []
    },
    {
      "cell_type": "code",
      "source": [
        "print(x)"
      ],
      "metadata": {
        "colab": {
          "base_uri": "https://localhost:8080/"
        },
        "collapsed": true,
        "id": "EzKA12LNWlTO",
        "outputId": "4fc99ef6-5a56-4ba1-89c0-c33f66ccd5a3"
      },
      "execution_count": 55,
      "outputs": [
        {
          "output_type": "stream",
          "name": "stdout",
          "text": [
            "[['female' 'group b' \"bachelor's degree\" ... 72 72 74.0]\n",
            " ['female' 'group c' 'some college' ... 69 90 88.0]\n",
            " ['female' 'group b' \"master's degree\" ... 90 95 93.0]\n",
            " ...\n",
            " ['female' 'group c' 'high school' ... 59 71 65.0]\n",
            " ['female' 'group d' 'some college' ... 68 78 77.0]\n",
            " ['female' 'group d' 'some college' ... 77 86 86.0]]\n"
          ]
        }
      ]
    },
    {
      "cell_type": "markdown",
      "source": [
        "Encoding categorical data"
      ],
      "metadata": {
        "id": "IiJV1GTgjU2P"
      }
    },
    {
      "cell_type": "code",
      "source": [
        "from sklearn.compose import ColumnTransformer\n",
        "from sklearn.preprocessing import OneHotEncoder, OrdinalEncoder\n",
        "ct = ColumnTransformer(transformers=[('encoder', OneHotEncoder(handle_unknown=\"ignore\"), list(range(4))),\n",
        "                                     (\"binary\", OrdinalEncoder(categories=[[\"none\", \"completed\"]]), [4])],\n",
        "                       remainder='passthrough')\n",
        "x = np.array(ct.fit_transform(x))\n",
        "# x = np.array(ct.fit_transform(df.drop(df.columns[5], axis=1)))"
      ],
      "metadata": {
        "collapsed": true,
        "id": "pTMbeBPZjYvU"
      },
      "execution_count": 103,
      "outputs": []
    },
    {
      "cell_type": "code",
      "source": [
        "print(x)"
      ],
      "metadata": {
        "colab": {
          "base_uri": "https://localhost:8080/"
        },
        "collapsed": true,
        "id": "y0-Hs1LlokAR",
        "outputId": "9a4f228f-1bcf-4ca3-b962-5c17f341339d"
      },
      "execution_count": 107,
      "outputs": [
        {
          "output_type": "stream",
          "name": "stdout",
          "text": [
            "[[ 1.  0.  0. ...  0. 72. 74.]\n",
            " [ 1.  0.  0. ...  1. 90. 88.]\n",
            " [ 1.  0.  0. ...  0. 95. 93.]\n",
            " ...\n",
            " [ 1.  0.  0. ...  1. 71. 65.]\n",
            " [ 1.  0.  0. ...  1. 78. 77.]\n",
            " [ 1.  0.  0. ...  0. 86. 86.]]\n"
          ]
        }
      ]
    },
    {
      "cell_type": "code",
      "source": [
        "print(y[:5])"
      ],
      "metadata": {
        "colab": {
          "base_uri": "https://localhost:8080/"
        },
        "id": "rUv-xg_t_Y21",
        "outputId": "aeaed301-3d7e-4f08-d18b-a061df3afd6b"
      },
      "execution_count": 92,
      "outputs": [
        {
          "output_type": "stream",
          "name": "stdout",
          "text": [
            "[72 69 90 47 76]\n"
          ]
        }
      ]
    }
  ]
}